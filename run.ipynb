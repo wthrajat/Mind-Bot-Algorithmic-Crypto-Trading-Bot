{
 "cells": [
  {
   "cell_type": "markdown",
   "metadata": {},
   "source": [
    "# Run the applicaton"
   ]
  },
  {
   "cell_type": "code",
   "execution_count": null,
   "metadata": {},
   "outputs": [],
   "source": [
    "#Windows\n",
    "%run -i app.py"
   ]
  },
  {
   "cell_type": "code",
   "execution_count": 20,
   "metadata": {},
   "outputs": [
    {
     "name": "stdout",
     "output_type": "stream",
     "text": [
      "cleared data..\n",
      "Dash is running on http://127.0.0.1:8060/\n",
      "\n",
      " * Serving Flask app 'app' (lazy loading)\n",
      " * Environment: production\n",
      "\u001b[31m   WARNING: This is a development server. Do not use it in a production deployment.\u001b[0m\n",
      "\u001b[2m   Use a production WSGI server instead.\u001b[0m\n",
      " * Debug mode: off\n",
      " * Running on http://127.0.0.1:8060 (Press CTRL+C to quit)\n",
      "^C\n"
     ]
    }
   ],
   "source": [
    "#MAC\n",
    "!python app.py"
   ]
  },
  {
   "cell_type": "markdown",
   "metadata": {},
   "source": [
    "# Data Source - Kraken"
   ]
  },
  {
   "cell_type": "code",
   "execution_count": null,
   "metadata": {},
   "outputs": [],
   "source": [
    "import crypto_stream"
   ]
  },
  {
   "cell_type": "code",
   "execution_count": null,
   "metadata": {},
   "outputs": [],
   "source": [
    "crypto_stream.fetch_historical_data(crypto='BTC/USD', interval='1m', limit=720)"
   ]
  },
  {
   "cell_type": "code",
   "execution_count": null,
   "metadata": {},
   "outputs": [],
   "source": [
    "crypto_stream.fetch_historical_data(crypto='BTC/USD', interval='1w', limit=720)"
   ]
  },
  {
   "cell_type": "code",
   "execution_count": null,
   "metadata": {},
   "outputs": [],
   "source": [
    "df = crypto_stream.get_data_from_table()"
   ]
  },
  {
   "cell_type": "code",
   "execution_count": null,
   "metadata": {},
   "outputs": [],
   "source": [
    "df_1 = df.reset_index()\n",
    "df_1.loc[-1:,['volume']] = 0.0"
   ]
  },
  {
   "cell_type": "code",
   "execution_count": null,
   "metadata": {},
   "outputs": [],
   "source": [
    "df_1"
   ]
  },
  {
   "cell_type": "markdown",
   "metadata": {},
   "source": [
    "# Backtesting"
   ]
  },
  {
   "cell_type": "code",
   "execution_count": null,
   "metadata": {},
   "outputs": [],
   "source": [
    "import backtesting"
   ]
  },
  {
   "cell_type": "code",
   "execution_count": null,
   "metadata": {},
   "outputs": [],
   "source": [
    "backtesting.MODEL_LIST"
   ]
  },
  {
   "cell_type": "code",
   "execution_count": null,
   "metadata": {},
   "outputs": [],
   "source": [
    "portfolio_metrics, trade_metrics, portfolio_evaluation = backtesting.main('BTC/USD', backtesting.MODEL_LIST[1], '1d', inital_capital=100000.0, no_of_shares=10)"
   ]
  },
  {
   "cell_type": "code",
   "execution_count": null,
   "metadata": {},
   "outputs": [],
   "source": [
    "trade_metrics"
   ]
  },
  {
   "cell_type": "markdown",
   "metadata": {},
   "source": [
    "# Create Requirements.txt"
   ]
  },
  {
   "cell_type": "code",
   "execution_count": null,
   "metadata": {},
   "outputs": [],
   "source": [
    "!pip install pipreqs"
   ]
  },
  {
   "cell_type": "code",
   "execution_count": null,
   "metadata": {},
   "outputs": [],
   "source": [
    "!pipreqs ."
   ]
  },
  {
   "cell_type": "markdown",
   "metadata": {},
   "source": [
    "# While deloying in Heroku\n",
    "Install TA-Lib through buildback\n",
    "heroku buildpacks:add --index 2 https://github.com/numrut/heroku-buildpack-python-talib\n",
    "Makesure to remove TA-Lib from Requirements.txt\n",
    "Add gunicorn==19.9.0 in requirements.txt\n",
    "removed Gunicorn error - https://stackoverflow.com/questions/28919534/gunicorn-not-found-on-heroku"
   ]
  },
  {
   "cell_type": "markdown",
   "metadata": {},
   "source": [
    "# Mind Bot\n",
    "\n",
    "![trading_bot](Images/trading_crypto_bot.jpg)\n",
    "\n",
    "A cryptocurrency trading bot is a software program designed to recognize the crypto-market’s trends and automatically execute trades. A trading bot takes the monotony of pushing the buy and sell button physically and trades on the trader’s behalf.\n",
    "\n",
    "## Features\n",
    "\n",
    "* [Machine Learning Model](#Machine-Learning-Model)\n",
    "* [Backtesting](#Backtesting)\n",
    "* [Trading Automation](#Trading-Automation)\n",
    "* Dash (UI)\n",
    "\n",
    "## Machine Learning Model\n",
    "\n",
    "Here we used Random Forest Classifier to predict whether to buy or sell the crypto based on the trading signals we used. We have two Random Forest Classifier Model trained by last 5 year of data. Used TAlib library for calculating the trading signals.\n",
    "\n",
    "- Model 1 :random_forest_model_1.joblib\n",
    "    - Exponential Moving Average based on Closing Price\n",
    "    - Exponential Moving Average based on Volumn\n",
    "    - Bollinger Bands\n",
    "    \n",
    "- Model 2 :random_forest_model_2.joblib\n",
    "    - Simple Moving Average\n",
    "    - Exponential Moving Average\n",
    "    - Relative Strength Index (RSI)\n",
    "    - Stochastic Oscillator\n",
    "    - Moving Average Convergence/Divergence (MACD)\n",
    "    - Bollinger Bands  \n",
    "    \n",
    "## Backtesting\n",
    "\n",
    "Backtesting is a key component of effective trading system development, that seeks to estimate the performance of a strategy or model if it had been employed during a past period. It is accomplished by using the Machine Learning model, test with trades that would have occured in the past and evaluate the result.\n",
    "\n",
    "![trading_bot](Images/backtesting-configuration.png)\n",
    "![trading_bot](Images/backtesting-result.png)\n",
    "\n",
    "\n",
    "## Trading Automation\n",
    "\n",
    "n automated trading system (ATS), a subset of algorithmic trading, uses a computer program to create buy and sell orders and automatically submits the orders to a market center or exchange. The computer program will automatically generate orders based on predefined set of rules using a trading strategy which is based on technical analysis, advanced statistical and mathematical computations or input from other electronic sources.\n",
    "\n",
    "Here we used Random Forest Classifier model to decided whether we are good buy or sell the crypto. For similicity We have added the Simple Moving Average(SMA10) implemented along with Simple Moving average.\n",
    "\n",
    "![trading_bot](Images/trading-bot.png)\n",
    "\n",
    "\n",
    "## Run File\n",
    "\n",
    "1. Install all dependencies - [requirement.txt] (/requirements.txt)\n",
    "2. Install TALib Library as its not in requirement.txt\n",
    "3. Goto File [run.ipynb](/run.ipynb)\n",
    "4. Run the first cell and you can find other helpful stuffs and links\n",
    "\n",
    "\n",
    "## Demo\n",
    "\n",
    "\n",
    "### Backtesting\n",
    "\n",
    "![trading_bot](Images/backtesting.gif)\n",
    "\n",
    "### Trading Bot\n",
    "\n",
    "![trading_bot](Images/trading-bot.gif)\n"
   ]
  },
  {
   "cell_type": "code",
   "execution_count": null,
   "metadata": {},
   "outputs": [],
   "source": []
  }
 ],
 "metadata": {
  "kernelspec": {
   "display_name": "Python 3",
   "language": "python",
   "name": "python3"
  },
  "language_info": {
   "codemirror_mode": {
    "name": "ipython",
    "version": 3
   },
   "file_extension": ".py",
   "mimetype": "text/x-python",
   "name": "python",
   "nbconvert_exporter": "python",
   "pygments_lexer": "ipython3",
   "version": "3.8.19"
  }
 },
 "nbformat": 4,
 "nbformat_minor": 4
}
